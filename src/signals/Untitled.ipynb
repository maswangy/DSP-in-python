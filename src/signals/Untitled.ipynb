{
 "cells": [
  {
   "cell_type": "code",
   "execution_count": 1,
   "metadata": {
    "collapsed": true
   },
   "outputs": [],
   "source": [
    "import math\n"
   ]
  },
  {
   "cell_type": "code",
   "execution_count": null,
   "metadata": {
    "collapsed": true
   },
   "outputs": [],
   "source": []
  },
  {
   "cell_type": "code",
   "execution_count": null,
   "metadata": {
    "collapsed": true
   },
   "outputs": [],
   "source": [
    "class Sinusoid(Signal):\n",
    "    \"\"\"Represents a sinusoidal signal.\"\"\"\n",
    "    \n",
    "    def __init__(self, freq=440, amp=1.0, offset=0, func=np.sin):\n",
    "        \"\"\"Initializes a sinusoidal signal.\n",
    "        freq: float frequency in Hz\n",
    "        amp: float amplitude, 1.0 is nominal max\n",
    "        offset: float phase offset in radians\n",
    "        func: function that maps phase to amplitude\n",
    "        \"\"\"\n",
    "        self.freq = freq\n",
    "        self.amp = amp\n",
    "        self.offset = offset\n",
    "        self.func = func\n",
    "\n",
    "    @property\n",
    "    def period(self):\n",
    "        \"\"\"Period of the signal in seconds.\n",
    "        returns: float seconds\n",
    "        \"\"\"\n",
    "        return 1.0 / self.freq\n",
    "\n",
    "    def evaluate(self, ts):\n",
    "        \"\"\"Evaluates the signal at the given times.\n",
    "        ts: float array of times\n",
    "        \n",
    "        returns: float wave array\n",
    "        \"\"\"\n",
    "        ts = np.asarray(ts)\n",
    "        phases = PI2 * self.freq * ts + self.offset\n",
    "        ys = self.amp * self.func(phases)\n",
    "        return ys"
   ]
  },
  {
   "cell_type": "code",
   "execution_count": null,
   "metadata": {
    "collapsed": true
   },
   "outputs": [],
   "source": [
    "ts = np.asarray(ts)\n",
    "11250 * 1\n",
    "cycles = self.freq * ts + self.offset / PI2\n",
    "frac, _ = np.modf(cycles)\n",
    "ys = np.abs(frac - 0.5)\n",
    "ys = normalize(unbias(ys), self.amp)"
   ]
  }
 ],
 "metadata": {
  "kernelspec": {
   "display_name": "Python 3",
   "language": "python",
   "name": "python3"
  },
  "language_info": {
   "codemirror_mode": {
    "name": "ipython",
    "version": 3
   },
   "file_extension": ".py",
   "mimetype": "text/x-python",
   "name": "python",
   "nbconvert_exporter": "python",
   "pygments_lexer": "ipython3",
   "version": "3.6.1"
  }
 },
 "nbformat": 4,
 "nbformat_minor": 1
}
